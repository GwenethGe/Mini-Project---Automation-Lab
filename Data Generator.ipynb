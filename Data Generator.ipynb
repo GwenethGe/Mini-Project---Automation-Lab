{
 "cells": [
  {
   "cell_type": "code",
   "execution_count": 2,
   "metadata": {},
   "outputs": [],
   "source": [
    "from collections import defaultdict"
   ]
  },
  {
   "cell_type": "code",
   "execution_count": 3,
   "metadata": {},
   "outputs": [],
   "source": [
    "class Primers:\n",
    "    def __init__(self, direction, seq, start, stop, GC_content, temperature):\n",
    "        self.dir = direction\n",
    "        self.seq = seq\n",
    "        self.start = start\n",
    "        self.stop = stop\n",
    "        self.GC = GC_content\n",
    "        self.T = temperature"
   ]
  },
  {
   "cell_type": "code",
   "execution_count": 4,
   "metadata": {},
   "outputs": [],
   "source": [
    "forward_p1 = Primers(\"forward\", 'CAGCAGACACATCCCTAGCC', 170, 189, 0.60, 60.18)\n",
    "forward_p2 = Primers(\"forward\", 'CCGGAACGTACAATACGGCT', 213, 232, 0.55, 60.18)\n",
    "forward_p3 = Primers(\"forward\", 'CAAACGGCGCCTCATTCTTC', 254, 273, 0.55, 60.18)\n",
    "forward_p4 = Primers(\"forward\", 'CCTCACACTCATAGCCACCG', 363, 283, 0.60, 60.18)\n",
    "forward_p5 = Primers(\"forward\", 'CCCTAGCCTTCTCCTCCGTA', 182, 201, 0.60, 59.81)\n",
    "forward_p6 = Primers(\"forward\", 'ACCGGCCTACTACTAGCCAT', 142, 161, 0.55, 59.81)\n",
    "forward_p7 = Primers(\"forward\", 'ATCAGGCTCAAACAACCCCC', 609, 628, 0.55, 60.25)\n",
    "forward_p8 = Primers(\"forward\", 'ACAACCCCCTAGGCATCTCA', 620, 639, 0.55, 60.25)\n",
    "forward_p9 = Primers(\"forward\", 'AACGGCGCCTCATTCTTCTT', 256, 275, 0.50, 60.32)\n",
    "forward_p10 = Primers(\"forward\", 'CTACGCTCCATCCCCAACAA', 844, 863, 0.55, 59.75)"
   ]
  },
  {
   "cell_type": "code",
   "execution_count": 5,
   "metadata": {},
   "outputs": [],
   "source": [
    "reverse_p1 = Primers(\"reverse\", 'AGCCGTAGTATAGGCCTCGT', 319, 300, 0.55, 59.89)\n",
    "reverse_p2 = Primers(\"reverse\", 'GGCCCCATGGGAGAACATAG', 412, 393, 0.60, 59.89)\n",
    "reverse_p3 = Primers(\"reverse\", 'CCCCATGGGAGAACATAGCC', 410, 391, 0.60, 59.89)\n",
    "reverse_p4 = Primers(\"reverse\", 'AAGGGTTGGGTTGTCGACTG', 528, 509, 0.55, 60.18)\n",
    "reverse_p5 = Primers(\"reverse\", 'GGGTTGGGTTGTCGACTGAA', 526, 507, 0.55, 60.18)\n",
    "reverse_p6 = Primers(\"reverse\", 'TTGTACGTTCCGGCAAGTGT', 225, 206, 0.50, 60.18)\n",
    "reverse_p7 = Primers(\"reverse\", 'AGGCTGCTAGGGCTAGTACA', 892, 873, 0.55, 59.74)\n",
    "reverse_p8 = Primers(\"reverse\", 'CGTAGGATGGCATAGGCGAA', 848, 829, 0.55, 59.68)\n",
    "reverse_p9 = Primers(\"reverse\", 'GGGGGTTGTTTGAGCCTGAT', 628, 609, 0.55, 60.25)\n",
    "reverse_p10 = Primers(\"reverse\", 'TGGTTGGCTTCCGATTCAGG', 1029, 1010, 0.55, 60.32)"
   ]
  },
  {
   "cell_type": "code",
   "execution_count": 6,
   "metadata": {},
   "outputs": [],
   "source": [
    "forward_primers = [forward_p1, forward_p2, forward_p3, forward_p4, forward_p5, \n",
    "                   forward_p6, forward_p7, forward_p8, forward_p9, forward_p10] \n",
    "reverse_primers = [reverse_p1, reverse_p2, reverse_p3, reverse_p4, reverse_p5, \n",
    "                   reverse_p6, reverse_p7, reverse_p8, reverse_p9, reverse_p10] "
   ]
  },
  {
   "cell_type": "code",
   "execution_count": 7,
   "metadata": {},
   "outputs": [],
   "source": [
    "def get_dist(forward_primer, reverse_primer):\n",
    "    return reverse_primer.stop - forward_primer.start + 1"
   ]
  },
  {
   "cell_type": "code",
   "execution_count": 8,
   "metadata": {},
   "outputs": [],
   "source": [
    "def build_training_data(forward_primers, reverse_primers, file_name):\n",
    "    f = open(file_name, 'w').close()\n",
    "    f = open(file_name, 'a')\n",
    "    f.write('forward sequence, forward start, forward stop, forward GC, forward T, reverse sequence, reverse start, reverse stop, reverse GC, reverse T, dist\\n')\n",
    "    for fp in forward_primers:\n",
    "        for rp in reverse_primers:\n",
    "            if get_dist(fp, rp) > 40:\n",
    "            # attribute: forward_seq, start, stop, gc_f, reverse_seq, start, stop, gc_r, dist)\n",
    "                f.write(fp.seq+','+str(fp.start)+','+str(fp.stop)+','+str(fp.GC)+','+str(fp.T)\\\n",
    "                       + \",\" + rp.seq+','+str(rp.start)+','+str(rp.stop)+','+str(rp.GC)+','+str(rp.T)+','+str(get_dist(fp, rp))+'\\n')\n"
   ]
  },
  {
   "cell_type": "code",
   "execution_count": 9,
   "metadata": {},
   "outputs": [],
   "source": [
    "build_training_data(forward_primers, reverse_primers, 'training.txt')"
   ]
  },
  {
   "cell_type": "code",
   "execution_count": null,
   "metadata": {},
   "outputs": [],
   "source": []
  }
 ],
 "metadata": {
  "kernelspec": {
   "display_name": "Python 3",
   "language": "python",
   "name": "python3"
  },
  "language_info": {
   "codemirror_mode": {
    "name": "ipython",
    "version": 3
   },
   "file_extension": ".py",
   "mimetype": "text/x-python",
   "name": "python",
   "nbconvert_exporter": "python",
   "pygments_lexer": "ipython3",
   "version": "3.8.5"
  }
 },
 "nbformat": 4,
 "nbformat_minor": 4
}
